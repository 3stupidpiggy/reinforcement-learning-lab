{
 "cells": [
  {
   "cell_type": "code",
   "execution_count": 1,
   "metadata": {},
   "outputs": [],
   "source": [
    "import torch\n",
    "import torchvision \n",
    "from tqdm import tqdm\n",
    "import matplotlib"
   ]
  },
  {
   "cell_type": "code",
   "execution_count": 2,
   "metadata": {},
   "outputs": [],
   "source": [
    "import torch.nn as nn\n",
    "\n",
    "# 定义多头自注意力模块\n",
    "class MultiHeadSelfAttention(nn.Module):\n",
    "    def __init__(self, embed_size, heads):\n",
    "        super(MultiHeadSelfAttention, self).__init__()\n",
    "        self.embed_size = embed_size\n",
    "        self.heads = heads\n",
    "        self.head_dim = embed_size // heads\n",
    "\n",
    "        # 确保嵌入维度可以被头数整除\n",
    "        assert (\n",
    "            self.head_dim * heads == embed_size\n",
    "        ), \"Embedding size needs to be divisible by heads\"\n",
    "\n",
    "        # 定义线性变换，用于计算 values, keys 和 queries\n",
    "        self.values = nn.Linear(self.head_dim, self.head_dim, bias=False)\n",
    "        self.keys = nn.Linear(self.head_dim, self.head_dim, bias=False)\n",
    "        self.queries = nn.Linear(self.head_dim, self.head_dim, bias=False)\n",
    "        self.fc_out = nn.Linear(heads * self.head_dim, embed_size)\n",
    "\n",
    "    def forward(self, values, keys, query):\n",
    "        N = query.shape[0]  # 获取 batch size\n",
    "        value_len, key_len, query_len = values.shape[1], keys.shape[1], query.shape[1]\n",
    "\n",
    "        # 将 values, keys 和 queries 进行 reshape，以便分头处理\n",
    "        values = values.reshape(N, value_len, self.heads, self.head_dim)\n",
    "        keys = keys.reshape(N, key_len, self.heads, self.head_dim)\n",
    "        queries = query.reshape(N, query_len, self.heads, self.head_dim)\n",
    "\n",
    "        # 通过线性变换得到新的 values, keys 和 queries\n",
    "        values = self.values(values)\n",
    "        keys = self.keys(keys)\n",
    "        queries = self.queries(queries)\n",
    "\n",
    "        # 计算注意力得分\n",
    "        energy = torch.einsum(\"nqhd,nkhd->nhqk\", [queries, keys])\n",
    "        attention = torch.softmax(energy / (self.embed_size ** (1 / 2)), dim=3)\n",
    "\n",
    "        # 计算注意力加权后的 values\n",
    "        out = torch.einsum(\"nhql,nlhd->nqhd\", [attention, values]).reshape(\n",
    "            N, query_len, self.heads * self.head_dim\n",
    "        )\n",
    "\n",
    "        # 通过全连接层输出\n",
    "        out = self.fc_out(out)\n",
    "        return out"
   ]
  },
  {
   "cell_type": "code",
   "execution_count": 3,
   "metadata": {},
   "outputs": [],
   "source": [
    "class Net(nn.Module):\n",
    "    def __init__(self):\n",
    "        super(Net, self).__init__()\n",
    "        self.conv1 = nn.Sequential(\n",
    "            nn.Conv2d(in_channels=1, out_channels=16, kernel_size=3, stride=1, padding=1),\n",
    "            nn.ReLU(),\n",
    "            nn.MaxPool2d(kernel_size=2, stride=2),\n",
    "        )\n",
    "        self.conv2 = nn.Sequential(\n",
    "            nn.Conv2d(in_channels=16, out_channels=32, kernel_size=3, stride=1, padding=1),\n",
    "            nn.ReLU(),\n",
    "            nn.MaxPool2d(kernel_size=2, stride=2),\n",
    "        )\n",
    "        self.conv3 = nn.Sequential(\n",
    "            nn.Conv2d(in_channels=32, out_channels=64, kernel_size=3, stride=1, padding=1),\n",
    "            nn.ReLU(),\n",
    "        )\n",
    "        self.flatten = nn.Flatten()\n",
    "        self.attention = MultiHeadSelfAttention(embed_size=7 * 7 * 64, heads=8)  # 添加自注意力机制\n",
    "        self.fc1 = nn.Linear(in_features=7 * 7 * 64, out_features=128)\n",
    "        self.fc2 = nn.Linear(in_features=128, out_features=10)\n",
    "        self.softmax = nn.Softmax(dim=1)\n",
    "\n",
    "    def forward(self, x):\n",
    "        x = self.conv1(x)\n",
    "        x = self.conv2(x)\n",
    "        x = self.conv3(x)\n",
    "        x = self.flatten(x)  # 展平张量\n",
    "\n",
    "        # 添加自注意力机制\n",
    "        x = x.unsqueeze(1)  # 增加一个维度以适应注意力机制\n",
    "        x = self.attention(x, x, x)\n",
    "        x = x.squeeze(1)  # 移除多余的维度\n",
    "\n",
    "        x = self.fc1(x)\n",
    "        x = nn.ReLU()(x)\n",
    "        x = self.fc2(x)\n",
    "        x = self.softmax(x)\n",
    "        return x\n"
   ]
  },
  {
   "cell_type": "code",
   "execution_count": 4,
   "metadata": {},
   "outputs": [
    {
     "name": "stdout",
     "output_type": "stream",
     "text": [
      "Downloading http://yann.lecun.com/exdb/mnist/train-images-idx3-ubyte.gz\n",
      "Failed to download (trying next):\n",
      "HTTP Error 502: Bad Gateway\n",
      "\n",
      "Downloading https://ossci-datasets.s3.amazonaws.com/mnist/train-images-idx3-ubyte.gz\n",
      "Downloading https://ossci-datasets.s3.amazonaws.com/mnist/train-images-idx3-ubyte.gz to ./data/MNIST\\raw\\train-images-idx3-ubyte.gz\n"
     ]
    },
    {
     "name": "stderr",
     "output_type": "stream",
     "text": [
      "100%|██████████| 9.91M/9.91M [01:17<00:00, 128kB/s] \n"
     ]
    },
    {
     "name": "stdout",
     "output_type": "stream",
     "text": [
      "Extracting ./data/MNIST\\raw\\train-images-idx3-ubyte.gz to ./data/MNIST\\raw\n",
      "\n",
      "Downloading http://yann.lecun.com/exdb/mnist/train-labels-idx1-ubyte.gz\n",
      "Failed to download (trying next):\n",
      "HTTP Error 502: Bad Gateway\n",
      "\n",
      "Downloading https://ossci-datasets.s3.amazonaws.com/mnist/train-labels-idx1-ubyte.gz\n",
      "Downloading https://ossci-datasets.s3.amazonaws.com/mnist/train-labels-idx1-ubyte.gz to ./data/MNIST\\raw\\train-labels-idx1-ubyte.gz\n"
     ]
    },
    {
     "name": "stderr",
     "output_type": "stream",
     "text": [
      "100%|██████████| 28.9k/28.9k [00:00<00:00, 63.0kB/s]\n"
     ]
    },
    {
     "name": "stdout",
     "output_type": "stream",
     "text": [
      "Extracting ./data/MNIST\\raw\\train-labels-idx1-ubyte.gz to ./data/MNIST\\raw\n",
      "\n",
      "Downloading http://yann.lecun.com/exdb/mnist/t10k-images-idx3-ubyte.gz\n",
      "Failed to download (trying next):\n",
      "HTTP Error 502: Bad Gateway\n",
      "\n",
      "Downloading https://ossci-datasets.s3.amazonaws.com/mnist/t10k-images-idx3-ubyte.gz\n",
      "Downloading https://ossci-datasets.s3.amazonaws.com/mnist/t10k-images-idx3-ubyte.gz to ./data/MNIST\\raw\\t10k-images-idx3-ubyte.gz\n"
     ]
    },
    {
     "name": "stderr",
     "output_type": "stream",
     "text": [
      "100%|██████████| 1.65M/1.65M [00:01<00:00, 1.17MB/s]\n"
     ]
    },
    {
     "name": "stdout",
     "output_type": "stream",
     "text": [
      "Extracting ./data/MNIST\\raw\\t10k-images-idx3-ubyte.gz to ./data/MNIST\\raw\n",
      "\n",
      "Downloading http://yann.lecun.com/exdb/mnist/t10k-labels-idx1-ubyte.gz\n",
      "Failed to download (trying next):\n",
      "HTTP Error 502: Bad Gateway\n",
      "\n",
      "Downloading https://ossci-datasets.s3.amazonaws.com/mnist/t10k-labels-idx1-ubyte.gz\n",
      "Downloading https://ossci-datasets.s3.amazonaws.com/mnist/t10k-labels-idx1-ubyte.gz to ./data/MNIST\\raw\\t10k-labels-idx1-ubyte.gz\n"
     ]
    },
    {
     "name": "stderr",
     "output_type": "stream",
     "text": [
      "100%|██████████| 4.54k/4.54k [00:00<00:00, 2.07MB/s]"
     ]
    },
    {
     "name": "stdout",
     "output_type": "stream",
     "text": [
      "Extracting ./data/MNIST\\raw\\t10k-labels-idx1-ubyte.gz to ./data/MNIST\\raw\n",
      "\n"
     ]
    },
    {
     "name": "stderr",
     "output_type": "stream",
     "text": [
      "\n"
     ]
    }
   ],
   "source": [
    "device = \"cuda:0\" if torch.cuda.is_available() else \"cpu\"   # 我这台是cpu\n",
    "transform = torchvision.transforms.Compose([torchvision.transforms.ToTensor(),\n",
    "                                torchvision.transforms.Normalize(mean = [0.5],std = [0.5])])\n",
    "\n",
    "# 定义超参数 && 准备数据集   \n",
    "BATCH_SIZE = 256\n",
    "EPOCHS = 10\n",
    "trainData = torchvision.datasets.MNIST('./data/',train = True,transform = transform,download = True)\n",
    "testData = torchvision.datasets.MNIST('./data/',train = False,transform = transform)\n",
    "\n",
    "\n",
    "trainDataLoader = torch.utils.data.DataLoader(dataset = trainData,batch_size = BATCH_SIZE,shuffle = True)\n",
    "testDataLoader = torch.utils.data.DataLoader(dataset = testData,batch_size = BATCH_SIZE)\n",
    "net = Net()\n",
    "\n",
    "lossF = torch.nn.CrossEntropyLoss()                 # 交叉熵损失函数\n",
    "optimizer = torch.optim.Adam(net.parameters())      # Adam优化器"
   ]
  },
  {
   "cell_type": "code",
   "execution_count": 5,
   "metadata": {},
   "outputs": [
    {
     "name": "stderr",
     "output_type": "stream",
     "text": [
      "[1/10] Loss: 1.5865, Acc: 0.9062, Test Loss: 1.5810, Test Acc: 0.8600: 100%|██████████| 235/235 [00:39<00:00,  5.98step/s]\n",
      "[2/10] Loss: 1.5842, Acc: 0.9062, Test Loss: 1.5814, Test Acc: 0.8585: 100%|██████████| 235/235 [00:40<00:00,  5.75step/s]\n",
      "[3/10] Loss: 1.4612, Acc: 0.9167, Test Loss: 1.4952, Test Acc: 0.9425: 100%|██████████| 235/235 [00:40<00:00,  5.87step/s]\n",
      "[4/10] Loss: 1.4612, Acc: 0.8750, Test Loss: 1.5208, Test Acc: 0.9169: 100%|██████████| 235/235 [00:40<00:00,  5.83step/s]\n",
      "[5/10] Loss: 1.5237, Acc: 0.9062, Test Loss: 1.5361, Test Acc: 0.9032: 100%|██████████| 235/235 [00:41<00:00,  5.73step/s]\n",
      "[6/10] Loss: 1.4612, Acc: 0.9271, Test Loss: 1.5414, Test Acc: 0.8963: 100%|██████████| 235/235 [00:41<00:00,  5.70step/s]\n",
      "[7/10] Loss: 1.7112, Acc: 0.7083, Test Loss: 1.7220, Test Acc: 0.7215: 100%|██████████| 235/235 [00:41<00:00,  5.73step/s]\n",
      "[8/10] Loss: 1.5862, Acc: 0.7812, Test Loss: 1.6528, Test Acc: 0.7878: 100%|██████████| 235/235 [00:40<00:00,  5.79step/s]\n",
      "[9/10] Loss: 1.4612, Acc: 0.8750, Test Loss: 1.5462, Test Acc: 0.8915: 100%|██████████| 235/235 [00:38<00:00,  6.07step/s]\n",
      "[10/10] Loss: 1.5237, Acc: 0.8333, Test Loss: 1.7071, Test Acc: 0.7321: 100%|██████████| 235/235 [00:38<00:00,  6.05step/s]\n"
     ]
    }
   ],
   "source": [
    "history = {'Test Loss':[],'Test Accuracy':[]}  # 记录测试集损失和准确率\n",
    "for epoch in range(1,EPOCHS + 1):\n",
    "    # 训练集训练\n",
    "    processBar = tqdm(trainDataLoader,unit = 'step')  # 进度条\n",
    "    net.train(True)  # 训练模式\n",
    "    for step,(trainImgs,labels) in enumerate(processBar):\n",
    "        trainImgs = trainImgs.to(device) \n",
    "        labels = labels.to(device)  \n",
    "\n",
    "        net.zero_grad()  # 梯度清零\n",
    "        outputs = net(trainImgs)  # 前向传播\n",
    "        loss = lossF(outputs,labels)  # 计算损失\n",
    "        predictions = torch.argmax(outputs, dim = 1)  # 获取预测结果\n",
    "        accuracy = torch.sum(predictions == labels)/labels.shape[0]  # 计算准确率\n",
    "        loss.backward()  # 反向传播\n",
    "\n",
    "        optimizer.step()  # 更新参数\n",
    "        processBar.set_description(\"[%d/%d] Loss: %.4f, Acc: %.4f\" % \n",
    "                                   (epoch,EPOCHS,loss.item(),accuracy.item()))\n",
    "        \n",
    "        # 测试集验证\n",
    "        if step == len(processBar)-1:\n",
    "            correct,totalLoss = 0,0\n",
    "            net.train(False)  # 测试模式\n",
    "            with torch.no_grad():  # 不计算梯度 优化性能\n",
    "                for testImgs,labels in testDataLoader:\n",
    "                    testImgs = testImgs.to(device) \n",
    "                    labels = labels.to(device) \n",
    "                    outputs = net(testImgs)  # 前向传播\n",
    "                    loss = lossF(outputs,labels)  # 计算损失\n",
    "                    predictions = torch.argmax(outputs,dim = 1)  # 获取预测结果\n",
    "                    \n",
    "                    totalLoss += loss  # 累加损失\n",
    "                    correct += torch.sum(predictions == labels)  # 累加正确预测数\n",
    "                    \n",
    "                testAccuracy = correct/(BATCH_SIZE * len(testDataLoader))  # 计算测试集准确率\n",
    "                testLoss = totalLoss/len(testDataLoader)  # 计算测试集平均损失\n",
    "                history['Test Loss'].append(testLoss.item())  # 记录测试集损失\n",
    "                history['Test Accuracy'].append(testAccuracy.item())  # 记录测试集准确率\n",
    "            \n",
    "            processBar.set_description(\"[%d/%d] Loss: %.4f, Acc: %.4f, Test Loss: %.4f, Test Acc: %.4f\" % \n",
    "                                   (epoch,EPOCHS,loss.item(),accuracy.item(),testLoss.item(),testAccuracy.item()))\n",
    "    processBar.close()  # 关闭进度条\n"
   ]
  },
  {
   "cell_type": "code",
   "execution_count": 6,
   "metadata": {},
   "outputs": [
    {
     "data": {
      "image/png": "[encoded data removed]",
      "text/plain": [
       "<Figure size 640x480 with 1 Axes>"
      ]
     },
     "metadata": {},
     "output_type": "display_data"
    },
    {
     "data": {
      "image/png": "[encoded data removed]",
      "text/plain": [
       "<Figure size 640x480 with 1 Axes>"
      ]
     },
     "metadata": {},
     "output_type": "display_data"
    }
   ],
   "source": [
    "import os\n",
    "import matplotlib.pyplot as plt\n",
    "\n",
    "plt.plot(history['Test Loss'],label = 'Test Loss')\n",
    "plt.legend(loc='best')\n",
    "plt.grid(True)\n",
    "plt.xlabel('Epoch')\n",
    "plt.ylabel('Loss')\n",
    "plt.show()\n",
    "\n",
    "plt.plot(history['Test Accuracy'],color = 'red',label = 'Test Accuracy')\n",
    "plt.legend(loc='best')\n",
    "plt.grid(True)\n",
    "plt.xlabel('Epoch')\n",
    "plt.ylabel('Accuracy')\n",
    "plt.show()\n",
    "\n",
    "# 确保路径存在\n",
    "os.makedirs(os.path.dirname('./model.pth'), exist_ok=True)\n",
    "\n",
    "torch.save(net, './model.pth')  # 保存模型"
   ]
  }
 ],
 "metadata": {
  "kernelspec": {
   "display_name": "ailearning",
   "language": "python",
   "name": "python3"
  },
  "language_info": {
   "codemirror_mode": {
    "name": "ipython",
    "version": 3
   },
   "file_extension": ".py",
   "mimetype": "text/x-python",
   "name": "python",
   "nbconvert_exporter": "python",
   "pygments_lexer": "ipython3",
   "version": "3.12.8"
  }
 },
 "nbformat": 4,
 "nbformat_minor": 2
}
